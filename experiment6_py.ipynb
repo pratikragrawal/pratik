{
  "nbformat": 4,
  "nbformat_minor": 0,
  "metadata": {
    "colab": {
      "provenance": [],
      "authorship_tag": "ABX9TyM+pslnWpvT0XK+YwYX2EGb",
      "include_colab_link": true
    },
    "kernelspec": {
      "name": "python3",
      "display_name": "Python 3"
    },
    "language_info": {
      "name": "python"
    }
  },
  "cells": [
    {
      "cell_type": "markdown",
      "metadata": {
        "id": "view-in-github",
        "colab_type": "text"
      },
      "source": [
        "<a href=\"https://colab.research.google.com/github/pratikragrawal/pratik/blob/main/experiment6_py.ipynb\" target=\"_parent\"><img src=\"https://colab.research.google.com/assets/colab-badge.svg\" alt=\"Open In Colab\"/></a>"
      ]
    },
    {
      "cell_type": "code",
      "execution_count": 1,
      "metadata": {
        "colab": {
          "base_uri": "https://localhost:8080/"
        },
        "id": "sEARcMmBVgtp",
        "outputId": "f95130c2-9e98-4ed1-84ed-0df0ed8c972e"
      },
      "outputs": [
        {
          "output_type": "stream",
          "name": "stdout",
          "text": [
            "Enter dataset file path: \"C:\\Users\\prati\\Downloads\\report.txt\"\n",
            "Error loading data: [Errno 2] No such file or directory: '\"C:\\\\Users\\\\prati\\\\Downloads\\\\report.txt\"'\n"
          ]
        }
      ],
      "source": [
        "# Import necessary libraries\n",
        "import pandas as pd\n",
        "import numpy as np\n",
        "import matplotlib.pyplot as plt\n",
        "import seaborn as sns\n",
        "\n",
        "# Load the dataset\n",
        "def load_data(file_path):\n",
        "    try:\n",
        "        return pd.read_csv(file_path)\n",
        "    except Exception as e:\n",
        "        print(f\"Error loading data: {e}\")\n",
        "\n",
        "# Handle missing values\n",
        "def handle_missing_values(df):\n",
        "    # Replace missing values with mean\n",
        "    df_num = df.select_dtypes(include=['int64', 'float64']).fillna(df.select_dtypes(include=['int64', 'float64']).mean())\n",
        "\n",
        "    # Replace missing values with median for categorical columns\n",
        "    df_cat = df.select_dtypes(include=['object']).fillna(df.select_dtypes(include=['object']).mode().iloc[0])\n",
        "\n",
        "    # Concatenate numerical and categorical dataframes\n",
        "    df = pd.concat([df_num, df_cat], axis=1)\n",
        "\n",
        "    return df\n",
        "# Detect outliers using IQR method\n",
        "def detect_outliers_iqr(df):\n",
        "    Q1 = df.quantile(0.25)\n",
        "    Q3 = df.quantile(0.75)\n",
        "    IQR = Q3 - Q1\n",
        "\n",
        "    outliers = (df < (Q1 - 1.5 * IQR)) | (df > (Q3 + 1.5 * IQR))\n",
        "\n",
        "    return outliers\n",
        "\n",
        "# Handle outliers\n",
        "def handle_outliers(df):\n",
        "    # Replace outliers with median\n",
        "    df = df.apply(lambda x: x.mask(detect_outliers_iqr(x)).fillna(x.median()))\n",
        "\n",
        "    return df\n",
        "\n",
        "# Main function\n",
        "def main():\n",
        "    file_path = input(\"Enter dataset file path: \")\n",
        "    df = load_data(file_path)\n",
        "\n",
        "    if df is not None:\n",
        "        print(\"Original Dataset:\")\n",
        "        print(df.head())\n",
        "\n",
        "        # Handle missing values\n",
        "        df = handle_missing_values(df)\n",
        "\n",
        "        # Handle outliers\n",
        "        df = handle_outliers(df)\n",
        "\n",
        "        print(\"\\nPreprocessed Dataset:\")\n",
        "        print(df.head())\n",
        "\n",
        "if __name__ == \"__main__\":\n",
        "    main()\n",
        "\n"
      ]
    }
  ]
}